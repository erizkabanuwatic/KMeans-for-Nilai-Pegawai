{
 "cells": [
  {
   "cell_type": "code",
   "execution_count": 73,
   "metadata": {},
   "outputs": [],
   "source": [
    "#Library Yang dibutuhkan\n",
    "import numpy as np\n",
    "import pandas as pd\n",
    "import matplotlib.pyplot as plt\n",
    "import seaborn as sns\n",
    "from sklearn.cluster import KMeans"
   ]
  },
  {
   "cell_type": "code",
   "execution_count": 74,
   "metadata": {
    "scrolled": true
   },
   "outputs": [
    {
     "data": {
      "text/html": [
       "<div>\n",
       "<style scoped>\n",
       "    .dataframe tbody tr th:only-of-type {\n",
       "        vertical-align: middle;\n",
       "    }\n",
       "\n",
       "    .dataframe tbody tr th {\n",
       "        vertical-align: top;\n",
       "    }\n",
       "\n",
       "    .dataframe thead th {\n",
       "        text-align: right;\n",
       "    }\n",
       "</style>\n",
       "<table border=\"1\" class=\"dataframe\">\n",
       "  <thead>\n",
       "    <tr style=\"text-align: right;\">\n",
       "      <th></th>\n",
       "      <th>ID_PERSON</th>\n",
       "      <th>Tingkat_Pendidikan_Akhir</th>\n",
       "      <th>Usia</th>\n",
       "      <th>Satuan_Kerja</th>\n",
       "      <th>Bulan</th>\n",
       "      <th>Nilai</th>\n",
       "    </tr>\n",
       "  </thead>\n",
       "  <tbody>\n",
       "    <tr>\n",
       "      <th>0</th>\n",
       "      <td>1001</td>\n",
       "      <td>7</td>\n",
       "      <td>61</td>\n",
       "      <td>DINAS B</td>\n",
       "      <td>Juli</td>\n",
       "      <td>7.884</td>\n",
       "    </tr>\n",
       "    <tr>\n",
       "      <th>1</th>\n",
       "      <td>1002</td>\n",
       "      <td>2</td>\n",
       "      <td>59</td>\n",
       "      <td>DINAS A</td>\n",
       "      <td>Juli</td>\n",
       "      <td>6.952</td>\n",
       "    </tr>\n",
       "    <tr>\n",
       "      <th>2</th>\n",
       "      <td>1003</td>\n",
       "      <td>6</td>\n",
       "      <td>57</td>\n",
       "      <td>BADAN D</td>\n",
       "      <td>Juli</td>\n",
       "      <td>8.185</td>\n",
       "    </tr>\n",
       "    <tr>\n",
       "      <th>3</th>\n",
       "      <td>1004</td>\n",
       "      <td>0</td>\n",
       "      <td>56</td>\n",
       "      <td>DINAS B</td>\n",
       "      <td>Juli</td>\n",
       "      <td>6.556</td>\n",
       "    </tr>\n",
       "    <tr>\n",
       "      <th>4</th>\n",
       "      <td>1005</td>\n",
       "      <td>3</td>\n",
       "      <td>54</td>\n",
       "      <td>DINAS B</td>\n",
       "      <td>Juli</td>\n",
       "      <td>6.347</td>\n",
       "    </tr>\n",
       "  </tbody>\n",
       "</table>\n",
       "</div>"
      ],
      "text/plain": [
       "   ID_PERSON  Tingkat_Pendidikan_Akhir  Usia Satuan_Kerja Bulan  Nilai\n",
       "0       1001                         7    61      DINAS B  Juli  7.884\n",
       "1       1002                         2    59      DINAS A  Juli  6.952\n",
       "2       1003                         6    57      BADAN D  Juli  8.185\n",
       "3       1004                         0    56      DINAS B  Juli  6.556\n",
       "4       1005                         3    54      DINAS B  Juli  6.347"
      ]
     },
     "execution_count": 74,
     "metadata": {},
     "output_type": "execute_result"
    }
   ],
   "source": [
    "#Membaca data berbentuk .CSV\n",
    "df = pd.read_csv('Data_Nilai_Pegawai.csv')\n",
    "df.head()"
   ]
  },
  {
   "cell_type": "code",
   "execution_count": 75,
   "metadata": {},
   "outputs": [
    {
     "data": {
      "text/plain": [
       "ID_PERSON                   0\n",
       "Tingkat_Pendidikan_Akhir    0\n",
       "Usia                        0\n",
       "Satuan_Kerja                0\n",
       "Bulan                       0\n",
       "Nilai                       0\n",
       "dtype: int64"
      ]
     },
     "execution_count": 75,
     "metadata": {},
     "output_type": "execute_result"
    }
   ],
   "source": [
    "#Mengecek apakah ada data yang hilang atau tidak\n",
    "df.isnull().sum()"
   ]
  },
  {
   "cell_type": "code",
   "execution_count": 76,
   "metadata": {},
   "outputs": [
    {
     "data": {
      "text/plain": [
       "<matplotlib.axes._subplots.AxesSubplot at 0x26c14f77748>"
      ]
     },
     "execution_count": 76,
     "metadata": {},
     "output_type": "execute_result"
    },
    {
     "data": {
      "image/png": "[encoded data removed]",
      "text/plain": [
       "<Figure size 432x288 with 2 Axes>"
      ]
     },
     "metadata": {
      "needs_background": "light"
     },
     "output_type": "display_data"
    }
   ],
   "source": [
    "#pengecekan korelasi menggunakan seaborn library,\n",
    "#terlihat ID_Person, Tingkat_Pendidikan_Akhir, Usia dan Nilai\n",
    "#merupakan fitur yang berpengaruh paling besar terhadap Nilai\n",
    "korelasi = df.corr()\n",
    "sns.heatmap(korelasi)"
   ]
  },
  {
   "cell_type": "code",
   "execution_count": 77,
   "metadata": {},
   "outputs": [
    {
     "data": {
      "text/plain": [
       "<BarContainer object of 30 artists>"
      ]
     },
     "execution_count": 77,
     "metadata": {},
     "output_type": "execute_result"
    },
    {
     "data": {
      "image/png": "[encoded data removed]",
      "text/plain": [
       "<Figure size 432x288 with 1 Axes>"
      ]
     },
     "metadata": {
      "needs_background": "light"
     },
     "output_type": "display_data"
    }
   ],
   "source": [
    "#Menampilkan grafik antara Nilai dan tingkat pendidikan akhir\n",
    "# ket: 0= SD, 1= SLTP, 2=SLTA, 3= D3, 4=D4, 5=S1, 6=S2, 7=S3\n",
    "plt.bar(df.Tingkat_Pendidikan_Akhir,df.Nilai)"
   ]
  },
  {
   "cell_type": "code",
   "execution_count": 78,
   "metadata": {},
   "outputs": [
    {
     "data": {
      "text/plain": [
       "<matplotlib.collections.PathCollection at 0x26c13c91b38>"
      ]
     },
     "execution_count": 78,
     "metadata": {},
     "output_type": "execute_result"
    },
    {
     "data": {
      "image/png": "[encoded data removed]",
      "text/plain": [
       "<Figure size 432x288 with 1 Axes>"
      ]
     },
     "metadata": {
      "needs_background": "light"
     },
     "output_type": "display_data"
    }
   ],
   "source": [
    "#Melihat Sebaran data bersasarkan tingkat pendidikan akhir dan nilai\n",
    "plt.scatter(df.Tingkat_Pendidikan_Akhir,df.Nilai)"
   ]
  },
  {
   "cell_type": "code",
   "execution_count": 60,
   "metadata": {},
   "outputs": [
    {
     "name": "stdout",
     "output_type": "stream",
     "text": [
      "[[7]\n",
      " [2]\n",
      " [6]\n",
      " [0]\n",
      " [3]\n",
      " [3]\n",
      " [2]\n",
      " [5]\n",
      " [3]\n",
      " [3]\n",
      " [1]\n",
      " [4]\n",
      " [5]\n",
      " [2]\n",
      " [5]\n",
      " [5]\n",
      " [3]\n",
      " [5]\n",
      " [4]\n",
      " [5]\n",
      " [5]\n",
      " [2]\n",
      " [5]\n",
      " [5]\n",
      " [4]\n",
      " [5]\n",
      " [5]\n",
      " [5]\n",
      " [5]\n",
      " [5]]\n",
      "[[7.884]\n",
      " [6.952]\n",
      " [8.185]\n",
      " [6.556]\n",
      " [6.347]\n",
      " [6.794]\n",
      " [6.546]\n",
      " [7.179]\n",
      " [7.485]\n",
      " [7.19 ]\n",
      " [7.152]\n",
      " [6.377]\n",
      " [7.546]\n",
      " [7.378]\n",
      " [7.604]\n",
      " [7.002]\n",
      " [7.18 ]\n",
      " [7.477]\n",
      " [6.472]\n",
      " [7.13 ]\n",
      " [7.322]\n",
      " [6.902]\n",
      " [7.193]\n",
      " [7.19 ]\n",
      " [7.684]\n",
      " [7.102]\n",
      " [7.265]\n",
      " [8.404]\n",
      " [7.043]\n",
      " [7.032]]\n"
     ]
    }
   ],
   "source": [
    "#mengubah data base menjadi array untuk variabel tingkat pendidikan akhir dan nilai\n",
    "tabelU = np.array(df.Tingkat_Pendidikan_Akhir)\n",
    "TPA = np.reshape(tabelTPA,(30,1))\n",
    "tabelN = np.array(df.Nilai)\n",
    "nilai = np.reshape(tabelN,(30,1))\n",
    "print(TPA)\n",
    "print(nilai)"
   ]
  },
  {
   "cell_type": "code",
   "execution_count": 79,
   "metadata": {},
   "outputs": [
    {
     "name": "stdout",
     "output_type": "stream",
     "text": [
      "[[6.94885714]\n",
      " [7.73855556]]\n"
     ]
    },
    {
     "data": {
      "text/plain": [
       "array([1, 0, 1, 0, 0, 0, 0, 0, 1, 0, 0, 0, 1, 1, 1, 0, 0, 1, 0, 0, 0, 0,\n",
       "       0, 0, 1, 0, 0, 1, 0, 0])"
      ]
     },
     "execution_count": 79,
     "metadata": {},
     "output_type": "execute_result"
    }
   ],
   "source": [
    "#Proses Clustering dengan metode K-Means\n",
    "#Membuat Objek K-Means\n",
    "kmeans = KMeans(n_clusters=2,max_iter= 500)\n",
    "# Mencocokan objek kmeans ke data\n",
    "kmeans.fit(nilai,usia)\n",
    "# menampilkan lokasi cluster center kmeans\n",
    "print(kmeans.cluster_centers_)\n",
    "# Menyimpan hasil clustering\n",
    "y_km = kmeans.fit_predict(nilai,usia)\n",
    "y_km"
   ]
  },
  {
   "cell_type": "code",
   "execution_count": 80,
   "metadata": {
    "scrolled": true
   },
   "outputs": [
    {
     "name": "stderr",
     "output_type": "stream",
     "text": [
      "C:\\Users\\Erizka Banuwati C\\Anaconda3\\lib\\site-packages\\ipykernel_launcher.py:4: MatplotlibDeprecationWarning: Adding an axes using the same arguments as a previous axes currently reuses the earlier instance.  In a future version, a new instance will always be created and returned.  Meanwhile, this warning can be suppressed, and the future behavior ensured, by passing a unique label to each axes instance.\n",
      "  after removing the cwd from sys.path.\n"
     ]
    },
    {
     "data": {
      "image/png": "[encoded data removed]",
      "text/plain": [
       "<Figure size 432x288 with 1 Axes>"
      ]
     },
     "metadata": {
      "needs_background": "light"
     },
     "output_type": "display_data"
    }
   ],
   "source": [
    "#Menampilkan Hasil clustering pegawai dengan performansi baik dan buruk\n",
    "plt.ylabel(\"Nilai\")\n",
    "plt.xlabel(\"Tingkat Pendidikan\")\n",
    "plt.title (\"Clustering dengan K Means\")\n",
    "ax = plt.subplot(111)\n",
    "ax.scatter(df.Tingkat_Pendidikan_Akhir[y_km ==0], df.Nilai[y_km == 0], s=50, c='red', label= 'Performa Buruk')\n",
    "ax.scatter(df.Tingkat_Pendidikan_Akhir[y_km ==1], df.Nilai[y_km == 1], s=50, c='black', label= 'Performa Baik')\n",
    "ax.legend()\n",
    "plt.show()"
   ]
  },
  {
   "cell_type": "code",
   "execution_count": 115,
   "metadata": {},
   "outputs": [
    {
     "name": "stdout",
     "output_type": "stream",
     "text": [
      "    ID_PERSON  Tingkat_Pendidikan_Akhir  Usia Satuan_Kerja Bulan  Nilai  Hasil\n",
      "0        1001                         7    61      DINAS B  Juli  7.884      1\n",
      "1        1002                         2    59      DINAS A  Juli  6.952      0\n",
      "2        1003                         6    57      BADAN D  Juli  8.185      1\n",
      "3        1004                         0    56      DINAS B  Juli  6.556      0\n",
      "4        1005                         3    54      DINAS B  Juli  6.347      0\n",
      "5        1006                         3    48      DINAS B  Juli  6.794      0\n",
      "6        1007                         2    47      DINAS B  Juli  6.546      0\n",
      "7        1008                         5    47      BADAN B  Juli  7.179      0\n",
      "8        1009                         3    47      DINAS P  Juli  7.485      1\n",
      "9        1010                         3    43      DINAS A  Juli  7.190      0\n",
      "10       1011                         1    43      DINAS F  Juli  7.152      0\n",
      "11       1012                         4    42      DINAS F  Juli  6.377      0\n",
      "12       1013                         5    42      BADAN B  Juli  7.546      1\n",
      "13       1014                         2    42      BADAN B  Juli  7.378      1\n",
      "14       1015                         5    41      BADAN D  Juli  7.604      1\n",
      "15       1016                         5    41      DINAS F  Juli  7.002      0\n",
      "16       1017                         3    40      DINAS P  Juli  7.180      0\n",
      "17       1018                         5    39      DINAS F  Juli  7.477      1\n",
      "18       1019                         4    39      BADAN B  Juli  6.472      0\n",
      "19       1020                         5    38      DINAS A  Juli  7.130      0\n",
      "20       1021                         5    35      DINAS P  Juli  7.322      0\n",
      "21       1022                         2    34      DINAS P  Juli  6.902      0\n",
      "22       1023                         5    32      DINAS F  Juli  7.193      0\n",
      "23       1024                         5    28      DINAS P  Juli  7.190      0\n",
      "24       1025                         4    27      BADAN D  Juli  7.684      1\n",
      "25       1026                         5    25      BADAN D  Juli  7.102      0\n",
      "26       1027                         5    25      DINAS A  Juli  7.265      0\n",
      "27       1028                         5    25      DINAS A  Juli  8.404      1\n",
      "28       1029                         5    25      BADAN B  Juli  7.043      0\n",
      "29       1030                         5    25      BADAN D  Juli  7.032      0\n"
     ]
    }
   ],
   "source": [
    "#menambahkan tabel hasil dari clustering\n",
    "df['Hasil']=y_km\n",
    "print(df)"
   ]
  }
 ],
 "metadata": {
  "kernelspec": {
   "display_name": "Python 3",
   "language": "python",
   "name": "python3"
  },
  "language_info": {
   "codemirror_mode": {
    "name": "ipython",
    "version": 3
   },
   "file_extension": ".py",
   "mimetype": "text/x-python",
   "name": "python",
   "nbconvert_exporter": "python",
   "pygments_lexer": "ipython3",
   "version": "3.7.3"
  }
 },
 "nbformat": 4,
 "nbformat_minor": 2
}
